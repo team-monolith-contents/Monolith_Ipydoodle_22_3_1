{
 "cells": [
  {
   "cell_type": "markdown",
   "id": "1481d238",
   "metadata": {},
   "source": [
    "### @ 반복 속 선택구조( for(while) 안의 if )\n",
    "* 반복 구조 속에 선택 구조를 넣어 다양한 반복 구조를 생성할 수 있다\n",
    "* break 명령어는 반복 구조를 즉시 탈출할 수 있도록 한다."
   ]
  },
  {
   "cell_type": "code",
   "execution_count": null,
   "id": "a6d3692f-c431-4070-8243-b6cf8b472dc7",
   "metadata": {
    "tags": [
     "jce.problems.백운고.정보.10차시.예제1"
    ]
   },
   "outputs": [],
   "source": [
    "# a = 10\n",
    "# for i in range(5):\n",
    "#     a -= 1\n",
    "#     print(a)\n",
    "#     if a == 7:\n",
    "#         break"
   ]
  },
  {
   "cell_type": "markdown",
   "id": "a4b0e35e-db65-493f-9e3e-20ce47d21fbe",
   "metadata": {
    "jupyter": {
     "source_hidden": true
    },
    "tags": []
   },
   "source": [
    "위 코드를 순서대로 해석해보면...\n",
    "1. for문의 조건에 따라 5번을 반복하는 상황입니다(i값은 0,1,2,3,4)\n",
    "2. 매 반복시 a의 값을 1씩 감소시킵니다.\n",
    "3. 매 반복마다 a의 값을 검사하고 a가 7일 경우 반복문을 탈출합니다."
   ]
  },
  {
   "cell_type": "code",
   "execution_count": null,
   "id": "3dc54a83-9bd5-495f-a367-41db34115c32",
   "metadata": {
    "tags": [
     "jce.problems.백운고.정보.10차시.예제2"
    ]
   },
   "outputs": [],
   "source": [
    "# for i in range(3):\n",
    "#     print('A')\n",
    "#     if i==1:\n",
    "#         print('B')"
   ]
  },
  {
   "cell_type": "code",
   "execution_count": null,
   "id": "d34d95b8-2e74-4f80-ab4e-af8fbd90f3d0",
   "metadata": {
    "tags": [
     "jce.problems.백운고.정보.10차시.예제3"
    ]
   },
   "outputs": [],
   "source": [
    "# for i in range(9):\n",
    "#     if i%3 == 0:\n",
    "#         print(i)\n",
    "# print(10)"
   ]
  },
  {
   "cell_type": "markdown",
   "id": "5446bb18-9d04-4d72-b4c4-b60975524f15",
   "metadata": {},
   "source": [
    "### @ 무한루프( while 1 또는 while True )\n",
    "* 경우에 따라서 무한히 반복되는 구조를 만들어야 할 필요가 있다. 이 때 쓰는 것이 무한루프이다.\n",
    "* 파이썬에서는 while을 활용( while 1: 또는 while True: )\n",
    "* if 조건문과 break를 활용하여 무한 루프 탈출 조건을 지정함"
   ]
  },
  {
   "cell_type": "code",
   "execution_count": null,
   "id": "bbf0854e-6f50-40ce-b21d-2fc4d32231aa",
   "metadata": {
    "tags": [
     "jce.problems.백운고.정보.10차시.예제4"
    ]
   },
   "outputs": [],
   "source": [
    "# n = 0\n",
    "# while 1 :\n",
    "#     n += 1\n",
    "#     print(\"실행중\")\n",
    "#     if n == 10:\n",
    "#         print(n)"
   ]
  },
  {
   "cell_type": "code",
   "execution_count": null,
   "id": "653d66bf-9379-46ef-b196-787c5520d1ad",
   "metadata": {
    "tags": [
     "jce.problems.백운고.정보.10차시.예제5"
    ]
   },
   "outputs": [],
   "source": [
    "# k = 0\n",
    "# while True:\n",
    "#     print(k)\n",
    "#     k += 1\n",
    "#     if k == 3:\n",
    "#         break"
   ]
  },
  {
   "cell_type": "markdown",
   "id": "ae58a0fe-e28c-4c78-af77-a5c77491ffe4",
   "metadata": {},
   "source": [
    "## 🆙교재 문제 1 ~ 20번까지 해결하기(P 53~57)"
   ]
  },
  {
   "cell_type": "code",
   "execution_count": null,
   "id": "27aa6e97-fd8f-4140-acac-19c89d3e99a9",
   "metadata": {
    "tags": [
     "jce.problems.백운고.정보.10차시.교재문제1"
    ]
   },
   "outputs": [
    {
     "name": "stdout",
     "output_type": "stream",
     "text": [
      "7\n",
      "8\n",
      "9\n"
     ]
    }
   ],
   "source": [
    "# 1번\n",
    "for i in range(10):\n",
    "    if i > 6:\n",
    "        print(i)"
   ]
  },
  {
   "cell_type": "code",
   "execution_count": null,
   "id": "650ec038-da23-4207-8df3-4b8ab8649dfe",
   "metadata": {
    "tags": [
     "jce.problems.백운고.정보.10차시.교재문제2"
    ]
   },
   "outputs": [
    {
     "name": "stdout",
     "output_type": "stream",
     "text": [
      "10\n"
     ]
    }
   ],
   "source": [
    "# 2번\n",
    "for i in range (2,10,3):\n",
    "    if i == 5:\n",
    "        print(i+i)"
   ]
  },
  {
   "cell_type": "code",
   "execution_count": null,
   "id": "2e4a820b-4ca3-4a93-aeea-7a35fbc38e6d",
   "metadata": {
    "tags": [
     "jce.problems.백운고.정보.10차시.교재문제3"
    ]
   },
   "outputs": [
    {
     "name": "stdout",
     "output_type": "stream",
     "text": [
      "3 2 1 "
     ]
    }
   ],
   "source": [
    "# 3번\n",
    "for i in range(10,0,-1):\n",
    "    if i < 4:\n",
    "        print(i, end= \" \")"
   ]
  },
  {
   "cell_type": "code",
   "execution_count": null,
   "id": "b7417538-f761-4884-b42f-113a442236f3",
   "metadata": {
    "tags": [
     "jce.problems.백운고.정보.10차시.교재문제4"
    ]
   },
   "outputs": [
    {
     "name": "stdout",
     "output_type": "stream",
     "text": [
      "0\n",
      "1\n",
      "2\n"
     ]
    }
   ],
   "source": [
    "# 4번\n",
    "for i in range (10):\n",
    "    if i < 3:\n",
    "        print(i)"
   ]
  },
  {
   "cell_type": "code",
   "execution_count": null,
   "id": "1085334c-7718-4ae1-b9a5-0b54b3910289",
   "metadata": {
    "tags": [
     "jce.problems.백운고.정보.10차시.교재문제5"
    ]
   },
   "outputs": [
    {
     "name": "stdout",
     "output_type": "stream",
     "text": [
      "8\n"
     ]
    }
   ],
   "source": [
    "# 5번\n",
    "a = 4\n",
    "for i in range (10):\n",
    "    if i == a:\n",
    "        print(i+a)"
   ]
  },
  {
   "cell_type": "code",
   "execution_count": null,
   "id": "7b6be424-5ee5-4c6d-86a7-f0369af409be",
   "metadata": {
    "tags": [
     "jce.problems.백운고.정보.10차시.교재문제6"
    ]
   },
   "outputs": [
    {
     "name": "stdout",
     "output_type": "stream",
     "text": [
      "5\n"
     ]
    }
   ],
   "source": [
    "# 6번\n",
    "a = 10\n",
    "for i in range(15,0,-5):\n",
    "    if i < a :\n",
    "        print(i)"
   ]
  },
  {
   "cell_type": "code",
   "execution_count": null,
   "id": "cc5cd673-2ce6-46d4-aef2-73de80e431b1",
   "metadata": {
    "tags": [
     "jce.problems.백운고.정보.10차시.교재문제7"
    ]
   },
   "outputs": [
    {
     "name": "stdout",
     "output_type": "stream",
     "text": [
      "5 12 21 "
     ]
    }
   ],
   "source": [
    "# 7번\n",
    "a = 0\n",
    "n = 10\n",
    "for i in range(1,10,2):\n",
    "    if 5 <= i < n:\n",
    "        a = a+i\n",
    "        print(a, end=\" \")"
   ]
  },
  {
   "cell_type": "code",
   "execution_count": null,
   "id": "c26e05e3-d413-44c9-a915-d9bf1c94f8a4",
   "metadata": {
    "tags": [
     "jce.problems.백운고.정보.10차시.교재문제8"
    ]
   },
   "outputs": [
    {
     "name": "stdout",
     "output_type": "stream",
     "text": [
      "A\n",
      "A\n",
      "B\n"
     ]
    }
   ],
   "source": [
    "# 8번\n",
    "for i in range(3):\n",
    "    if i < 2:\n",
    "        print(\"A\")\n",
    "    else:\n",
    "        print(\"B\")"
   ]
  },
  {
   "cell_type": "code",
   "execution_count": null,
   "id": "1b315e49-bb08-4366-832d-59d4d368dfd6",
   "metadata": {
    "tags": [
     "jce.problems.백운고.정보.10차시.교재문제9"
    ]
   },
   "outputs": [
    {
     "name": "stdout",
     "output_type": "stream",
     "text": [
      "B\n",
      "B\n",
      "A\n"
     ]
    }
   ],
   "source": [
    "# 9번\n",
    "for i in range(1,7,2):\n",
    "    if i >4:\n",
    "        print(\"A\")\n",
    "    else:\n",
    "            print(\"B\")"
   ]
  },
  {
   "cell_type": "code",
   "execution_count": null,
   "id": "70d998b6-541a-4a20-8cac-41a484eae430",
   "metadata": {
    "tags": [
     "jce.problems.백운고.정보.10차시.교재문제10"
    ]
   },
   "outputs": [
    {
     "name": "stdout",
     "output_type": "stream",
     "text": [
      "10\n",
      "10\n",
      "8\n",
      "8\n",
      "6\n",
      "6\n"
     ]
    }
   ],
   "source": [
    "# 10번\n",
    "a = 0\n",
    "for i in range(10,4,-1):\n",
    "    if i%2 == 0:\n",
    "        a = i \n",
    "    print(a)"
   ]
  },
  {
   "cell_type": "code",
   "execution_count": null,
   "id": "7dbef6b8-4d5b-40b1-86e0-266a4f63eb22",
   "metadata": {
    "tags": [
     "jce.problems.백운고.정보.10차시.교재문제11"
    ]
   },
   "outputs": [
    {
     "name": "stdout",
     "output_type": "stream",
     "text": [
      "3\n",
      "9\n",
      "12\n"
     ]
    }
   ],
   "source": [
    "# 11번\n",
    "sum = 0\n",
    "for i in range(1,10,2):\n",
    "    if i%3 == 0:\n",
    "        print(i)\n",
    "        sum = sum+i\n",
    "print(sum)"
   ]
  },
  {
   "cell_type": "code",
   "execution_count": null,
   "id": "90323efa-9aba-474f-82fa-3f9fe6c3b13b",
   "metadata": {
    "tags": [
     "jce.problems.백운고.정보.10차시.교재문제12"
    ]
   },
   "outputs": [
    {
     "name": "stdout",
     "output_type": "stream",
     "text": [
      "7\n",
      "8\n",
      "9\n"
     ]
    }
   ],
   "source": [
    "# 12번\n",
    "a=[5,6,7,8,9]\n",
    "for i in a:\n",
    "    if i >=7:\n",
    "        print(i)"
   ]
  },
  {
   "cell_type": "code",
   "execution_count": null,
   "id": "114f9067-49d8-4585-9d68-620e03eac0b5",
   "metadata": {
    "tags": [
     "jce.problems.백운고.정보.10차시.교재문제13"
    ]
   },
   "outputs": [
    {
     "name": "stdout",
     "output_type": "stream",
     "text": [
      "2\n",
      "4\n",
      "6\n",
      "8\n"
     ]
    }
   ],
   "source": [
    "# 13번\n",
    "a = [1,2,3,4,5,6,7,8,9]\n",
    "for i in a:\n",
    "    if i%2 == 0:\n",
    "        print(i)"
   ]
  },
  {
   "cell_type": "code",
   "execution_count": null,
   "id": "c66302b9-5ac6-4786-9c8b-d07c598c2922",
   "metadata": {
    "tags": [
     "jce.problems.백운고.정보.10차시.교재문제14"
    ]
   },
   "outputs": [
    {
     "name": "stdout",
     "output_type": "stream",
     "text": [
      "18\n",
      "54\n",
      "15\n"
     ]
    }
   ],
   "source": [
    "# 14번\n",
    "list1 = [18,77,68,54,99,15]\n",
    "for i in list1:\n",
    "    if i < 55:\n",
    "        print(i)"
   ]
  },
  {
   "cell_type": "code",
   "execution_count": null,
   "id": "2b043e6d-9fcb-4642-9cee-4c0eb9346c09",
   "metadata": {
    "tags": [
     "jce.problems.백운고.정보.10차시.교재문제15"
    ]
   },
   "outputs": [
    {
     "name": "stdout",
     "output_type": "stream",
     "text": [
      "4\n"
     ]
    }
   ],
   "source": [
    "# 15번\n",
    "a = 0\n",
    "while 1:\n",
    "    a += 1\n",
    "    if a > 3:\n",
    "        break\n",
    "print(a)"
   ]
  },
  {
   "cell_type": "code",
   "execution_count": null,
   "id": "b0c38ddc-97da-45f1-ad31-70d3e696114f",
   "metadata": {
    "tags": [
     "jce.problems.백운고.정보.10차시.교재문제16"
    ]
   },
   "outputs": [
    {
     "name": "stdout",
     "output_type": "stream",
     "text": [
      "16\n"
     ]
    }
   ],
   "source": [
    "# 16번\n",
    "a = 1\n",
    "while 1:\n",
    "    if a < 10:\n",
    "        a*= 2\n",
    "        \n",
    "    else:\n",
    "        break\n",
    "print(a)"
   ]
  },
  {
   "cell_type": "code",
   "execution_count": null,
   "id": "a869ec1f-03c1-4f6d-a0cb-c0ab9fb89ed4",
   "metadata": {
    "tags": [
     "jce.problems.백운고.정보.10차시.교재문제17"
    ]
   },
   "outputs": [
    {
     "name": "stdout",
     "output_type": "stream",
     "text": [
      "80 60 40 20 0 "
     ]
    }
   ],
   "source": [
    "# 17번\n",
    "s = 100\n",
    "while True:\n",
    "    if s <10 :\n",
    "        break\n",
    "    s = s-20\n",
    "    print(s,end= \" \")"
   ]
  },
  {
   "cell_type": "code",
   "execution_count": null,
   "id": "e9569186-2b5a-45a5-af38-b53e3caf8b54",
   "metadata": {
    "tags": [
     "jce.problems.백운고.정보.10차시.교재문제18"
    ]
   },
   "outputs": [
    {
     "name": "stdout",
     "output_type": "stream",
     "text": [
      "v vv vvv\n"
     ]
    }
   ],
   "source": [
    "# 18번\n",
    "n = 1\n",
    "c = 'v'\n",
    "while True:\n",
    "    print(c*n, end=\" \")\n",
    "    n += 1\n",
    "    if n == 3:\n",
    "        break\n",
    "print(c*n)"
   ]
  },
  {
   "cell_type": "code",
   "execution_count": null,
   "id": "1654e07d-8de9-4dd8-a815-ee1f544c29a7",
   "metadata": {
    "tags": [
     "jce.problems.백운고.정보.10차시.교재문제19"
    ]
   },
   "outputs": [
    {
     "name": "stdout",
     "output_type": "stream",
     "text": [
      "22\n",
      "19\n",
      "16\n",
      "13\n",
      "10\n",
      "ERROR! Session/line number was not unique in database. History logging moved to new session 47\n"
     ]
    }
   ],
   "source": [
    "# 19번\n",
    "a = 5\n",
    "b = 20\n",
    "while 1:\n",
    "    if a+b > 10:\n",
    "        a -= 4\n",
    "        b += 1\n",
    "    elif a + b<10:\n",
    "            a *= 2\n",
    "            b -+ 3\n",
    "    else:\n",
    "        break\n",
    "    print(a+b)"
   ]
  },
  {
   "cell_type": "code",
   "execution_count": null,
   "id": "1e810776-15cf-4ddd-92f7-feb92b72d27f",
   "metadata": {
    "tags": [
     "jce.problems.백운고.정보.10차시.교재문제20"
    ]
   },
   "outputs": [
    {
     "name": "stdout",
     "output_type": "stream",
     "text": [
      "60 20 125\n"
     ]
    }
   ],
   "source": [
    "# 20번\n",
    "a = 20\n",
    "b = 80\n",
    "c = 0\n",
    "while True:\n",
    "    if c < 100:\n",
    "        if a < b:\n",
    "            c += a\n",
    "        else:\n",
    "            c += b\n",
    "    else:\n",
    "          break\n",
    "    a += 10\n",
    "    b -= 15\n",
    "print(a,b,c)"
   ]
  },
  {
   "cell_type": "code",
   "execution_count": null,
   "id": "b3857e4f-e508-43be-85eb-6bbeff0ce4ef",
   "metadata": {},
   "outputs": [],
   "source": []
  }
 ],
 "metadata": {
  "kernelspec": {
   "display_name": "Python 3 (ipykernel)",
   "language": "python",
   "name": "python3"
  },
  "language_info": {
   "codemirror_mode": {
    "name": "ipython",
    "version": 3
   },
   "file_extension": ".py",
   "mimetype": "text/x-python",
   "name": "python",
   "nbconvert_exporter": "python",
   "pygments_lexer": "ipython3",
   "version": "3.9.10"
  }
 },
 "nbformat": 4,
 "nbformat_minor": 5
}
