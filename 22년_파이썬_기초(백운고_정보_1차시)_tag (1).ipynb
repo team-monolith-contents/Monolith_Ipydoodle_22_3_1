{
 "cells": [
  {
   "cell_type": "markdown",
   "metadata": {
    "id": "bjGWGfDnGz__"
   },
   "source": [
    "### step 1) 프로그래밍 언어의 종류\n",
    "\n",
    "\n",
    "1.   텍스트기반 언어 : C, 자바(JAVA), 파이썬(Python)...\n",
    "  \n",
    "\n",
    "*   사용자가 텍스트 형태의 명령어를 작성함\n",
    "*   컴파일러(프로그램을 한꺼번에 번역)/ 인터프리터(한번에 하나씩 명령어를 읽어서 실행)\n",
    "\n",
    "\n",
    "2.   블록기반 언어 : 스크래치(Scratch), 엔트리(Entry)...\n",
    "\n",
    "\n",
    "\n",
    "\n",
    "\n",
    "\n"
   ]
  },
  {
   "cell_type": "markdown",
   "metadata": {
    "id": "0TIDkqgMznxO"
   },
   "source": [
    "### step 2) 파이썬 특징\n",
    "\n",
    "\n",
    "1.   텍스트 기반 프로그래밍 언어\n",
    "2.   문법이 쉽고 간단함 (가독성)\n",
    "3.   광범위하고 다양한 라이브러리가 기본으로 포함되고 외부 라이브러리가 많아 확정이 쉬움\n",
    "4.    새로운 라이브러리를 쉽게 추가 가능(접착성)\n",
    "5.    문자열은 모두 유니코드로 이루어져 있어서 한글과 한자 표현에 별도 설정 과정이 없음\n",
    "6.    실행 시에 자료형을 확인하는 동적 입력 지원하고 메모리를 자동으로 관리함\n",
    "\n"
   ]
  },
  {
   "cell_type": "markdown",
   "metadata": {
    "id": "wvnCGZ-fAvXF"
   },
   "source": [
    "### step 3) 파이썬 문법\n",
    "\n",
    "\n",
    "1.   들여쓰기 : 파이썬 문법의 가장 큰 특징, 들여쓰기를 통해 코드블록을 구분\n",
    "2.   주석 : '#'기호를 사용\n",
    "3.   세미콜론(;) : 한줄에 두 개 이상의 명령어를 구분하는데 사용\n",
    "4.   큰 따옴표(\"\")와 작은 따옴표('') : 문자열을 표현하기 위해 사용\n",
    "\n"
   ]
  },
  {
   "cell_type": "markdown",
   "metadata": {
    "id": "6VICvDDuPykk"
   },
   "source": [
    "\n",
    "### 1. 파이썬 명령어 형식\n",
    "<img src='https://github.com/Ahnjihye/allinone_AI/blob/images/0_%EB%AA%85%EB%A0%B9%EC%96%B4.png?raw=true' width=400>"
   ]
  },
  {
   "cell_type": "markdown",
   "metadata": {
    "id": "OqR8EokpdbCN"
   },
   "source": [
    "### step 4) 파이썬 기초"
   ]
  },
  {
   "cell_type": "markdown",
   "metadata": {
    "id": "5EbsCWbNG0AB"
   },
   "source": [
    "#### 1. 출력 함수(print) : 결과를 출력할 때 사용\n",
    "* print(\"출력할 문장\") \n",
    "* print(출력할 변수 또는 숫자)"
   ]
  },
  {
   "cell_type": "code",
   "execution_count": 1,
   "metadata": {
    "id": "TUonf8tPgADS",
    "tags": [
     "jce.problems.백운고.정보.1차시.예제1"
    ]
   },
   "outputs": [
    {
     "name": "stdout",
     "output_type": "stream",
     "text": [
      "hello world\n"
     ]
    }
   ],
   "source": [
    "print(\"hello world\")"
   ]
  },
  {
   "cell_type": "code",
   "execution_count": null,
   "metadata": {
    "id": "kvTfgHwEgHbM",
    "tags": [
     "jce.problems.백운고.정보.1차시.예제2"
    ]
   },
   "outputs": [],
   "source": [
    "# print(a)"
   ]
  },
  {
   "cell_type": "code",
   "execution_count": null,
   "metadata": {
    "id": "PbG4Lmc9G0AB",
    "tags": [
     "jce.problems.백운고.정보.1차시.예제3"
    ]
   },
   "outputs": [],
   "source": [
    "# print(\"a\")"
   ]
  },
  {
   "cell_type": "code",
   "execution_count": null,
   "metadata": {
    "id": "PTdANYvn71Qf",
    "tags": [
     "jce.problems.백운고.정보.1차시.예제4"
    ]
   },
   "outputs": [],
   "source": [
    "# print(10)"
   ]
  },
  {
   "cell_type": "code",
   "execution_count": null,
   "metadata": {
    "id": "nLe-gtcK76GN",
    "tags": [
     "jce.problems.백운고.정보.1차시.예제5"
    ]
   },
   "outputs": [],
   "source": [
    "# print(\"C\"*10)"
   ]
  },
  {
   "cell_type": "code",
   "execution_count": null,
   "metadata": {
    "id": "hK26Ttp58IJG",
    "tags": [
     "jce.problems.백운고.정보.1차시.예제6"
    ]
   },
   "outputs": [],
   "source": [
    "# print(n*5)"
   ]
  },
  {
   "cell_type": "code",
   "execution_count": null,
   "metadata": {
    "id": "3B0_xNrv8Qdu",
    "tags": [
     "jce.problems.백운고.정보.1차시.예제7"
    ]
   },
   "outputs": [],
   "source": [
    "# print(\"A\"+\"05\")"
   ]
  },
  {
   "cell_type": "markdown",
   "metadata": {
    "id": "fPmBNaOJf8fB"
   },
   "source": [
    "## 🙋교재 문제 1~10까지 해결하기"
   ]
  },
  {
   "cell_type": "code",
   "execution_count": null,
   "metadata": {
    "id": "VaQNSH7KgCfU",
    "tags": [
     "jce.problems.백운고.정보.1차시.교재문제1"
    ]
   },
   "outputs": [],
   "source": [
    "# 1번\n"
   ]
  },
  {
   "cell_type": "code",
   "execution_count": null,
   "metadata": {
    "id": "N_QhVKfbgY6w",
    "tags": [
     "jce.problems.백운고.정보.1차시.교재문제2"
    ]
   },
   "outputs": [],
   "source": [
    "# 2번\n"
   ]
  },
  {
   "cell_type": "code",
   "execution_count": null,
   "metadata": {
    "id": "KxKZWXx1CrCO",
    "tags": [
     "jce.problems.백운고.정보.1차시.교재문제3"
    ]
   },
   "outputs": [],
   "source": [
    "# 3번\n"
   ]
  },
  {
   "cell_type": "code",
   "execution_count": null,
   "metadata": {
    "id": "-kk-KEAkCrQk",
    "tags": [
     "jce.problems.백운고.정보.1차시.교재문제4"
    ]
   },
   "outputs": [],
   "source": [
    "# 4번\n"
   ]
  },
  {
   "cell_type": "code",
   "execution_count": null,
   "metadata": {
    "id": "cAP17EZhCrbs",
    "tags": [
     "jce.problems.백운고.정보.1차시.교재문제5"
    ]
   },
   "outputs": [],
   "source": [
    "# 5번\n"
   ]
  },
  {
   "cell_type": "code",
   "execution_count": null,
   "metadata": {
    "id": "ICvPy51xCrmy",
    "tags": [
     "jce.problems.백운고.정보.1차시.교재문제6"
    ]
   },
   "outputs": [],
   "source": [
    "# 6번\n"
   ]
  },
  {
   "cell_type": "code",
   "execution_count": null,
   "metadata": {
    "id": "m3X2hjpKCxpr",
    "tags": [
     "jce.problems.백운고.정보.1차시.교재문제7"
    ]
   },
   "outputs": [],
   "source": [
    "# 7번\n"
   ]
  },
  {
   "cell_type": "code",
   "execution_count": null,
   "metadata": {
    "id": "_NJjJAe-CxzC",
    "tags": [
     "jce.problems.백운고.정보.1차시.교재문제8"
    ]
   },
   "outputs": [],
   "source": [
    "# 8번\n"
   ]
  },
  {
   "cell_type": "code",
   "execution_count": null,
   "metadata": {
    "id": "HII8HcgjCx_o",
    "tags": [
     "jce.problems.백운고.정보.1차시.교재문제9"
    ]
   },
   "outputs": [],
   "source": [
    "# 9번\n"
   ]
  },
  {
   "cell_type": "code",
   "execution_count": 6,
   "metadata": {
    "id": "TE0lk_QACyLG",
    "tags": [
     "jce.problems.백운고.정보.1차시.교재문제10"
    ]
   },
   "outputs": [
    {
     "data": {
      "text/html": [
       "<div id=\"glowscript\" class=\"glowscript\"></div>"
      ],
      "text/plain": [
       "<IPython.core.display.HTML object>"
      ]
     },
     "metadata": {},
     "output_type": "display_data"
    },
    {
     "data": {
      "application/javascript": [
       "if (typeof Jupyter !== \"undefined\") { window.__context = { glowscript_container: $(\"#glowscript\").removeAttr(\"id\")};}else{ element.textContent = ' ';}"
      ],
      "text/plain": [
       "<IPython.core.display.Javascript object>"
      ]
     },
     "metadata": {},
     "output_type": "display_data"
    }
   ],
   "source": [
    "# 10번\n",
    "from vpython import *\n",
    "canvas()\n",
    "box()"
   ]
  },
  {
   "cell_type": "markdown",
   "metadata": {
    "id": "gjWNgpI6cR24"
   },
   "source": [
    "### <이스케이프 문자>\n",
    "* \\n : 줄바꿈\n",
    "* \\t : 탭"
   ]
  },
  {
   "cell_type": "code",
   "execution_count": null,
   "metadata": {
    "id": "sCc3vI-CFHjL",
    "tags": [
     "jce.problems.백운고.정보.1차시.예제8"
    ]
   },
   "outputs": [],
   "source": [
    "# print(\"hello\\n안녕하세요\")"
   ]
  },
  {
   "cell_type": "markdown",
   "metadata": {
    "id": "zNlNwOErClxr"
   },
   "source": [
    "### 2. 입력함수(input) : 데이터를 입력할 때 사용\n",
    "* input('입력안내문')\n",
    "* a = input()"
   ]
  },
  {
   "cell_type": "code",
   "execution_count": null,
   "metadata": {
    "id": "CysyTfkoD4le",
    "tags": [
     "jce.problems.백운고.정보.1차시.예제9"
    ]
   },
   "outputs": [],
   "source": [
    "# input()"
   ]
  },
  {
   "cell_type": "code",
   "execution_count": null,
   "metadata": {
    "id": "EIsl3PecEE4A",
    "tags": [
     "jce.problems.백운고.정보.1차시.예제10"
    ]
   },
   "outputs": [],
   "source": [
    "# input(\"이름: \")"
   ]
  },
  {
   "cell_type": "code",
   "execution_count": null,
   "metadata": {
    "id": "NxxiNjoxELBz",
    "tags": [
     "jce.problems.백운고.정보.1차시.예제11"
    ]
   },
   "outputs": [],
   "source": [
    "# input(\"생일: \")"
   ]
  },
  {
   "cell_type": "code",
   "execution_count": null,
   "metadata": {
    "id": "kFiidWPoEa1M",
    "tags": [
     "jce.problems.백운고.정보.1차시.예제12"
    ]
   },
   "outputs": [],
   "source": [
    "# input(\"아이디: \")\n",
    "# input(\"패스워드: \")"
   ]
  },
  {
   "cell_type": "markdown",
   "metadata": {
    "id": "5TblMxseGyGG"
   },
   "source": [
    "### 순차구조 \n",
    "\n",
    "<img src='https://github.com/Ahnjihye/allinone_AI/blob/images/66_%E1%84%89%E1%85%AE%E1%86%AB%E1%84%8E%E1%85%A1%E1%84%80%E1%85%AE%E1%84%8C%E1%85%A9.png?raw=true' width=600>"
   ]
  },
  {
   "cell_type": "code",
   "execution_count": 3,
   "metadata": {
    "id": "kezY4FvOQ8vS",
    "tags": [
     "jce.problems.백운고.정보.1차시.예제13"
    ]
   },
   "outputs": [
    {
     "name": "stdout",
     "output_type": "stream",
     "text": [
      "---- OOO 웹사이트 회원 가입 ----\n"
     ]
    },
    {
     "name": "stdin",
     "output_type": "stream",
     "text": [
      "아이디 :  1\n"
     ]
    },
    {
     "name": "stdout",
     "output_type": "stream",
     "text": [
      "OOO 웹사이트 가입을 환영합니다!\n"
     ]
    }
   ],
   "source": [
    "print('---- OOO 웹사이트 회원 가입 ----')\n",
    "input('아이디 : ')\n",
    "print('OOO 웹사이트 가입을 환영합니다!')"
   ]
  },
  {
   "cell_type": "markdown",
   "metadata": {
    "id": "V1qdZa0ljBQz"
   },
   "source": [
    "## 3. 변수 : 데이터를 메모리에 저장할 때 사용\n",
    "\n",
    "\n",
    "> 변수이름 = 저장할 데이터\n",
    "\n",
    "\n",
    "<img src = 'https://github.com/Ahnjihye/allinone_AI/blob/images/%E1%84%87%E1%85%A7%E1%86%AB%E1%84%89%E1%85%AE%E1%84%8B%E1%85%B5%E1%84%86%E1%85%B5%E1%84%8C%E1%85%B5.png?raw=true' width =500>\n",
    "\n",
    "\n"
   ]
  },
  {
   "cell_type": "code",
   "execution_count": null,
   "metadata": {
    "id": "VjsOVHUVJvd6",
    "tags": [
     "jce.problems.백운고.정보.1차시.예제14"
    ]
   },
   "outputs": [],
   "source": [
    "# a = 3\n",
    "# b = 'paekun'\n",
    "# print(a)\n",
    "# print(b)\n",
    "# print(a,b)"
   ]
  },
  {
   "cell_type": "markdown",
   "metadata": {
    "id": "6vrf5BfMK5Gn"
   },
   "source": [
    "## 🙋교재 문제 11~20까지 해결하기"
   ]
  },
  {
   "cell_type": "code",
   "execution_count": null,
   "metadata": {
    "id": "bGiRE-hxKD11",
    "tags": [
     "jce.problems.백운고.정보.1차시.교재문제11"
    ]
   },
   "outputs": [],
   "source": [
    "# 11번\n"
   ]
  },
  {
   "cell_type": "code",
   "execution_count": null,
   "metadata": {
    "id": "8Yq4xE0oLC0N",
    "tags": [
     "jce.problems.백운고.정보.1차시.교재문제12"
    ]
   },
   "outputs": [],
   "source": [
    "# 12번\n"
   ]
  },
  {
   "cell_type": "code",
   "execution_count": null,
   "metadata": {
    "id": "9r3PAXBbLEaG",
    "tags": [
     "jce.problems.백운고.정보.1차시.교재문제13"
    ]
   },
   "outputs": [],
   "source": [
    "# 13번\n"
   ]
  },
  {
   "cell_type": "code",
   "execution_count": null,
   "metadata": {
    "id": "gZaxY0OaLGqD",
    "tags": [
     "jce.problems.백운고.정보.1차시.교재문제14"
    ]
   },
   "outputs": [],
   "source": [
    "# 14번\n"
   ]
  },
  {
   "cell_type": "code",
   "execution_count": null,
   "metadata": {
    "id": "fKcJ6I-fLIZJ",
    "tags": [
     "jce.problems.백운고.정보.1차시.교재문제15"
    ]
   },
   "outputs": [],
   "source": [
    "# 15번\n"
   ]
  },
  {
   "cell_type": "code",
   "execution_count": null,
   "metadata": {
    "id": "Lxpon3iILJyC",
    "tags": [
     "jce.problems.백운고.정보.1차시.교재문제16"
    ]
   },
   "outputs": [],
   "source": [
    "# 16번\n"
   ]
  },
  {
   "cell_type": "code",
   "execution_count": null,
   "metadata": {
    "id": "poXna4ElLLU3",
    "tags": [
     "jce.problems.백운고.정보.1차시.교재문제17"
    ]
   },
   "outputs": [],
   "source": [
    "# 17번\n"
   ]
  },
  {
   "cell_type": "code",
   "execution_count": null,
   "metadata": {
    "id": "Nla5hIfyLNGu",
    "tags": [
     "jce.problems.백운고.정보.1차시.교재문제18"
    ]
   },
   "outputs": [],
   "source": [
    "# 18번\n"
   ]
  },
  {
   "cell_type": "code",
   "execution_count": null,
   "metadata": {
    "id": "l_bg_W-MLPRt",
    "tags": [
     "jce.problems.백운고.정보.1차시.교재문제19"
    ]
   },
   "outputs": [],
   "source": [
    "# 19번\n"
   ]
  },
  {
   "cell_type": "code",
   "execution_count": null,
   "metadata": {
    "id": "nciU2XY6LQ1D",
    "tags": [
     "jce.problems.백운고.정보.1차시.교재문제20"
    ]
   },
   "outputs": [],
   "source": [
    "# 20번\n"
   ]
  }
 ],
 "metadata": {
  "colab": {
   "collapsed_sections": [],
   "name": "22년_파이썬 기초(백운고_정보_1차시).ipynb",
   "provenance": []
  },
  "kernelspec": {
   "display_name": "Python 3 (ipykernel)",
   "language": "python",
   "name": "python3"
  },
  "language_info": {
   "codemirror_mode": {
    "name": "ipython",
    "version": 3
   },
   "file_extension": ".py",
   "mimetype": "text/x-python",
   "name": "python",
   "nbconvert_exporter": "python",
   "pygments_lexer": "ipython3",
   "version": "3.9.10"
  }
 },
 "nbformat": 4,
 "nbformat_minor": 4
}
